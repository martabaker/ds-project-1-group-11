{
 "cells": [
  {
   "cell_type": "markdown",
   "id": "0cd70b72-0553-4cd3-b380-c0f096d59c8b",
   "metadata": {},
   "source": [
    "# Map of Crashes in Monroe County, Indiana\n",
    "## Map co"
   ]
  }
 ],
 "metadata": {
  "kernelspec": {
   "display_name": "Python 3 (ipykernel)",
   "language": "python",
   "name": "python3"
  },
  "language_info": {
   "codemirror_mode": {
    "name": "ipython",
    "version": 3
   },
   "file_extension": ".py",
   "mimetype": "text/x-python",
   "name": "python",
   "nbconvert_exporter": "python",
   "pygments_lexer": "ipython3",
   "version": "3.10.13"
  }
 },
 "nbformat": 4,
 "nbformat_minor": 5
}
