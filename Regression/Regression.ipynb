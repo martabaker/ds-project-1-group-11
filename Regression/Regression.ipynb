{
 "cells": [
  {
   "cell_type": "markdown",
   "id": "a5783fa6-99e0-4f19-bf58-0442bbdb5a73",
   "metadata": {},
   "source": [
    "# Regression of Time of Day Accidents Occurred vs. Day of the Week Accidents Occurred"
   ]
  },
  {
   "cell_type": "code",
   "execution_count": 1,
   "id": "55666c6a-9196-4d6e-84a9-ef314f49d5da",
   "metadata": {},
   "outputs": [],
   "source": [
    "# Data Science Libraries\n",
    "import pandas as pd\n",
    "import numpy as np\n",
    "\n",
    "# Visualization\n",
    "import matplotlib.pyplot as plt\n",
    "import seaborn as sns\n",
    "\n",
    "# Regression/Modelling libraries\n",
    "from scipy.stats import linregress"
   ]
  },
  {
   "cell_type": "code",
   "execution_count": null,
   "id": "dce0daf3-0e54-4a61-8dc0-60dbbf533453",
   "metadata": {},
   "outputs": [],
   "source": []
  },
  {
   "cell_type": "code",
   "execution_count": null,
   "id": "c1bff631-26ea-4b8b-8e7d-ebecceee1682",
   "metadata": {},
   "outputs": [],
   "source": []
  },
  {
   "cell_type": "code",
   "execution_count": null,
   "id": "84505764-87ff-4425-9464-cb252a518687",
   "metadata": {},
   "outputs": [],
   "source": []
  },
  {
   "cell_type": "code",
   "execution_count": null,
   "id": "5000e841-ba65-4957-ba7d-53194ccf0e9c",
   "metadata": {},
   "outputs": [],
   "source": []
  },
  {
   "cell_type": "code",
   "execution_count": null,
   "id": "903c7650-1328-435b-bef7-dd0b035e0cda",
   "metadata": {},
   "outputs": [],
   "source": []
  },
  {
   "cell_type": "code",
   "execution_count": null,
   "id": "ea313a8b-8e54-4405-b4f9-d9980e9cdf6c",
   "metadata": {},
   "outputs": [],
   "source": []
  }
 ],
 "metadata": {
  "kernelspec": {
   "display_name": "Python 3 (ipykernel)",
   "language": "python",
   "name": "python3"
  },
  "language_info": {
   "codemirror_mode": {
    "name": "ipython",
    "version": 3
   },
   "file_extension": ".py",
   "mimetype": "text/x-python",
   "name": "python",
   "nbconvert_exporter": "python",
   "pygments_lexer": "ipython3",
   "version": "3.10.13"
  }
 },
 "nbformat": 4,
 "nbformat_minor": 5
}
