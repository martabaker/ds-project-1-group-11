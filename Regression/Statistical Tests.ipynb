{
 "cells": [
  {
   "cell_type": "markdown",
   "id": "a5783fa6-99e0-4f19-bf58-0442bbdb5a73",
   "metadata": {},
   "source": [
    "# Regression of Time of Day Accidents Occurred vs. Day of the Week Accidents Occurred"
   ]
  },
  {
   "cell_type": "code",
   "execution_count": 1,
   "id": "55666c6a-9196-4d6e-84a9-ef314f49d5da",
   "metadata": {},
   "outputs": [],
   "source": [
    "# Data Science Libraries\n",
    "import pandas as pd\n",
    "import numpy as np\n",
    "import scipy.stats as stats\n",
    "\n",
    "# Visualization\n",
    "import matplotlib.pyplot as plt\n",
    "import seaborn as sns\n",
    "\n",
    "# Regression/Modelling libraries\n",
    "from scipy.stats import linregress"
   ]
  },
  {
   "cell_type": "code",
   "execution_count": 2,
   "id": "dce0daf3-0e54-4a61-8dc0-60dbbf533453",
   "metadata": {},
   "outputs": [
    {
     "data": {
      "text/html": [
       "<div>\n",
       "<style scoped>\n",
       "    .dataframe tbody tr th:only-of-type {\n",
       "        vertical-align: middle;\n",
       "    }\n",
       "\n",
       "    .dataframe tbody tr th {\n",
       "        vertical-align: top;\n",
       "    }\n",
       "\n",
       "    .dataframe thead th {\n",
       "        text-align: right;\n",
       "    }\n",
       "</style>\n",
       "<table border=\"1\" class=\"dataframe\">\n",
       "  <thead>\n",
       "    <tr style=\"text-align: right;\">\n",
       "      <th></th>\n",
       "      <th>index</th>\n",
       "      <th>year</th>\n",
       "      <th>month</th>\n",
       "      <th>day</th>\n",
       "      <th>hour</th>\n",
       "      <th>collision_type</th>\n",
       "      <th>injury_type</th>\n",
       "      <th>primary_factor</th>\n",
       "      <th>reported_location</th>\n",
       "      <th>latitude</th>\n",
       "      <th>longitude</th>\n",
       "    </tr>\n",
       "  </thead>\n",
       "  <tbody>\n",
       "    <tr>\n",
       "      <th>0</th>\n",
       "      <td>0</td>\n",
       "      <td>2015</td>\n",
       "      <td>1</td>\n",
       "      <td>5</td>\n",
       "      <td>0.0</td>\n",
       "      <td>2-Car</td>\n",
       "      <td>No injury/unknown</td>\n",
       "      <td>OTHER</td>\n",
       "      <td>1ST &amp; FESS</td>\n",
       "      <td>39.159207</td>\n",
       "      <td>-86.525874</td>\n",
       "    </tr>\n",
       "    <tr>\n",
       "      <th>1</th>\n",
       "      <td>1</td>\n",
       "      <td>2015</td>\n",
       "      <td>1</td>\n",
       "      <td>6</td>\n",
       "      <td>1500.0</td>\n",
       "      <td>2-Car</td>\n",
       "      <td>No injury/unknown</td>\n",
       "      <td>FOLLOWING TOO CLOSELY</td>\n",
       "      <td>2ND &amp; COLLEGE</td>\n",
       "      <td>39.161440</td>\n",
       "      <td>-86.534848</td>\n",
       "    </tr>\n",
       "    <tr>\n",
       "      <th>2</th>\n",
       "      <td>2</td>\n",
       "      <td>2015</td>\n",
       "      <td>1</td>\n",
       "      <td>6</td>\n",
       "      <td>2300.0</td>\n",
       "      <td>2-Car</td>\n",
       "      <td>Non-incapacitating</td>\n",
       "      <td>DISREGARD SIGNAL/REG SIGN</td>\n",
       "      <td>BASSWOOD &amp; BLOOMFIELD</td>\n",
       "      <td>39.149780</td>\n",
       "      <td>-86.568890</td>\n",
       "    </tr>\n",
       "    <tr>\n",
       "      <th>3</th>\n",
       "      <td>3</td>\n",
       "      <td>2015</td>\n",
       "      <td>1</td>\n",
       "      <td>7</td>\n",
       "      <td>900.0</td>\n",
       "      <td>2-Car</td>\n",
       "      <td>Non-incapacitating</td>\n",
       "      <td>FAILURE TO YIELD RIGHT OF WAY</td>\n",
       "      <td>GATES &amp; JACOBS</td>\n",
       "      <td>39.165655</td>\n",
       "      <td>-86.575956</td>\n",
       "    </tr>\n",
       "    <tr>\n",
       "      <th>4</th>\n",
       "      <td>4</td>\n",
       "      <td>2015</td>\n",
       "      <td>1</td>\n",
       "      <td>7</td>\n",
       "      <td>1100.0</td>\n",
       "      <td>2-Car</td>\n",
       "      <td>No injury/unknown</td>\n",
       "      <td>FAILURE TO YIELD RIGHT OF WAY</td>\n",
       "      <td>W 3RD</td>\n",
       "      <td>39.164848</td>\n",
       "      <td>-86.579625</td>\n",
       "    </tr>\n",
       "  </tbody>\n",
       "</table>\n",
       "</div>"
      ],
      "text/plain": [
       "   index  year  month  day    hour collision_type         injury_type  \\\n",
       "0      0  2015      1    5     0.0          2-Car   No injury/unknown   \n",
       "1      1  2015      1    6  1500.0          2-Car   No injury/unknown   \n",
       "2      2  2015      1    6  2300.0          2-Car  Non-incapacitating   \n",
       "3      3  2015      1    7   900.0          2-Car  Non-incapacitating   \n",
       "4      4  2015      1    7  1100.0          2-Car   No injury/unknown   \n",
       "\n",
       "                  primary_factor      reported_location   latitude  longitude  \n",
       "0                          OTHER             1ST & FESS  39.159207 -86.525874  \n",
       "1          FOLLOWING TOO CLOSELY          2ND & COLLEGE  39.161440 -86.534848  \n",
       "2      DISREGARD SIGNAL/REG SIGN  BASSWOOD & BLOOMFIELD  39.149780 -86.568890  \n",
       "3  FAILURE TO YIELD RIGHT OF WAY         GATES & JACOBS  39.165655 -86.575956  \n",
       "4  FAILURE TO YIELD RIGHT OF WAY                  W 3RD  39.164848 -86.579625  "
      ]
     },
     "execution_count": 2,
     "metadata": {},
     "output_type": "execute_result"
    }
   ],
   "source": [
    "# Read in the cleaned data\n",
    "df = pd.read_csv(\"../Data/cleaned_car_crash_data.csv\")\n",
    "\n",
    "# Display first 5 rows\n",
    "df.head()"
   ]
  },
  {
   "cell_type": "code",
   "execution_count": 3,
   "id": "7788246c-a917-4ebc-b3e4-3002c570196a",
   "metadata": {},
   "outputs": [],
   "source": [
    "# Remove the redundant index column\n",
    "df = df.drop(\"index\", axis=1)"
   ]
  },
  {
   "cell_type": "markdown",
   "id": "51a0c486-165e-47b8-8f50-e2caf9fd2b96",
   "metadata": {},
   "source": [
    "### Statistical Tests for Time of Day Accidents Occurred per Day of Week\n",
    "---"
   ]
  },
  {
   "cell_type": "code",
   "execution_count": 10,
   "id": "5c922563-4d53-448d-928a-40bb29e80983",
   "metadata": {},
   "outputs": [],
   "source": [
    "# Violin Plots showing distribution"
   ]
  },
  {
   "cell_type": "code",
   "execution_count": 63,
   "id": "38261677-0e93-4e4b-8760-35abfa230df4",
   "metadata": {},
   "outputs": [
    {
     "data": {
      "text/plain": [
       "<function matplotlib.pyplot.show(close=None, block=None)>"
      ]
     },
     "execution_count": 63,
     "metadata": {},
     "output_type": "execute_result"
    },
    {
     "data": {
      "image/png": "[encoded data removed]",
      "text/plain": [
       "<Figure size 800x600 with 1 Axes>"
      ]
     },
     "metadata": {},
     "output_type": "display_data"
    }
   ],
   "source": [
    "plt.figure(figsize=(8,6))\n",
    "sns.violinplot(data=df, \n",
    "               x=\"day\", \n",
    "               y=\"hour\",\n",
    "              palette=[\"#0f26df\", \"#10b706\", \"#0d7b07\", \"#0837a9\", \"#38c3c4\", \"#00c6ff\", \"#00c6ff\"])\n",
    "plt.title(\"Violin Plots of Hour when Crashes Happened by Day of the Week\")\n",
    "plt.show"
   ]
  },
  {
   "cell_type": "code",
   "execution_count": 13,
   "id": "170d83df-5775-4735-9736-c41c25fd9e48",
   "metadata": {},
   "outputs": [],
   "source": [
    "# Extract day of week\n",
    "sun=df.loc[df.day == 1, \"hour\"]\n",
    "mon=df.loc[df.day == 2, \"hour\"]\n",
    "tues=df.loc[df.day == 3, \"hour\"]\n",
    "wed=df.loc[df.day == 4, \"hour\"]\n",
    "thur=df.loc[df.day == 5, \"hour\"]\n",
    "fri=df.loc[df.day == 6, \"hour\"]\n",
    "sat=df.loc[df.day == 7, \"hour\"]"
   ]
  },
  {
   "cell_type": "code",
   "execution_count": 14,
   "id": "b02d1e8b-e4b7-4610-a5f5-e138259d4912",
   "metadata": {},
   "outputs": [],
   "source": [
    "# Full Hypothesis\n",
    "\n",
    "# H0: This is no difference in time of accidents between any group\n",
    "# HA: There is a difference in time of accidents between any group"
   ]
  },
  {
   "cell_type": "code",
   "execution_count": 15,
   "id": "dee98e75-a651-42ad-a459-36aac4548ec5",
   "metadata": {},
   "outputs": [
    {
     "data": {
      "text/plain": [
       "F_onewayResult(statistic=34.972520372232026, pvalue=1.8668260309203273e-42)"
      ]
     },
     "execution_count": 15,
     "metadata": {},
     "output_type": "execute_result"
    }
   ],
   "source": [
    "# ANOVA\n",
    "stats.f_oneway(sun, mon, tues, wed, thur, fri, sat)"
   ]
  },
  {
   "cell_type": "code",
   "execution_count": 16,
   "id": "aae94343-5fd7-488f-9521-2fec57225bed",
   "metadata": {},
   "outputs": [],
   "source": [
    "# Full Hypothesis\n",
    "\n",
    "# H0: This is no difference in time of accidents between any group\n",
    "# HA: There is a difference in time of accidents between any group"
   ]
  },
  {
   "cell_type": "code",
   "execution_count": 17,
   "id": "785d692a-2568-4bd6-ace3-4a6f362bc8b7",
   "metadata": {},
   "outputs": [
    {
     "name": "stdout",
     "output_type": "stream",
     "text": [
      "TtestResult(statistic=0.0, pvalue=1.0, df=10190.0)\n",
      "TtestResult(statistic=-8.941345616726114, pvalue=4.588575332921759e-19, df=9204.557888006277)\n",
      "TtestResult(statistic=-7.66202219264, pvalue=2.0200737230142433e-14, df=8989.208698603596)\n",
      "TtestResult(statistic=-6.361807717676779, pvalue=2.0886018771592446e-10, df=9233.056493157901)\n",
      "TtestResult(statistic=-8.299725016856902, pvalue=1.1898487350561067e-16, df=9255.716573694943)\n",
      "TtestResult(statistic=-9.975458753956067, pvalue=2.5911420194353023e-23, df=8848.433174117654)\n",
      "TtestResult(statistic=-1.867372347938079, pvalue=0.0618734702255353, df=12251.0)\n"
     ]
    }
   ],
   "source": [
    "# T-tests for Sunday\n",
    "print(stats.ttest_ind(sun, sun, equal_var=False))\n",
    "print(stats.ttest_ind(sun, mon, equal_var=False))\n",
    "print(stats.ttest_ind(sun, tues, equal_var=False))\n",
    "print(stats.ttest_ind(sun, wed, equal_var=False))\n",
    "print(stats.ttest_ind(sun, thur, equal_var=False))\n",
    "print(stats.ttest_ind(sun, fri, equal_var=False))\n",
    "print(stats.ttest_ind(sun, sat, equal_var=True))"
   ]
  },
  {
   "cell_type": "code",
   "execution_count": 18,
   "id": "e2d095f4-3683-459d-8dfd-31d263375bb4",
   "metadata": {},
   "outputs": [],
   "source": [
    "# Reject the null hypothesis for all days except Saturday where we fail to reject the null hypothesis\n",
    "# There is a significant difference between Sunday and all other days of the week, except Saturday\n",
    "\n",
    "# While the p-value is close to 0.05 between Saturday and Sunday, given the significance of the p-value for sunday and all other days of the week,\n",
    "# comparatively, Saturday isn't significant"
   ]
  },
  {
   "cell_type": "code",
   "execution_count": 19,
   "id": "71b65efd-f0c2-45de-839f-e64a11952349",
   "metadata": {},
   "outputs": [
    {
     "name": "stdout",
     "output_type": "stream",
     "text": [
      "TtestResult(statistic=1.813699896341775, pvalue=0.06974357568396897, df=15259.0)\n",
      "TtestResult(statistic=3.3473939275866567, pvalue=0.0008177579950122274, df=14996.0)\n",
      "TtestResult(statistic=0.8439342110641541, pvalue=0.39871943788799924, df=15215.0)\n",
      "TtestResult(statistic=-1.082806444766679, pvalue=0.2789099416620765, df=16739.0)\n",
      "TtestResult(statistic=7.905326934229422, pvalue=2.875295700925435e-15, df=13718.963005729744)\n"
     ]
    }
   ],
   "source": [
    "# T-tests for Monday\n",
    "print(stats.ttest_ind(mon, tues, equal_var=True))\n",
    "print(stats.ttest_ind(mon, wed, equal_var=True))\n",
    "print(stats.ttest_ind(mon, thur, equal_var=True))\n",
    "print(stats.ttest_ind(mon, fri, equal_var=True))\n",
    "print(stats.ttest_ind(mon, sat, equal_var=False))"
   ]
  },
  {
   "cell_type": "code",
   "execution_count": 20,
   "id": "c5e25c8f-c23f-41f0-bfb4-a65c8eccf6b9",
   "metadata": {},
   "outputs": [],
   "source": [
    "# Reject the null hypothesis for Wednesday and Saturday while we fail to reject for Tuesday, Thursday, and Friday\n",
    "# There is a significant difference between Monday and both Wednesday and Saturday, while the other 3 days are not significant\n",
    "\n",
    "# While the p-value is close to 0.05 between Tuesday and Monday, given the significance of the p-value for Wednesday and Saturday, \n",
    "# 0.07 isn't that significant. Additionally, this is consistent with the determination for Saturday and Sunday"
   ]
  },
  {
   "cell_type": "code",
   "execution_count": 21,
   "id": "a87825e2-d5ae-470b-b01c-c2abd1ed38f9",
   "metadata": {},
   "outputs": [
    {
     "name": "stdout",
     "output_type": "stream",
     "text": [
      "TtestResult(statistic=1.604096724194764, pvalue=0.10871289326436286, df=15665.0)\n",
      "TtestResult(statistic=-0.9548130461749321, pvalue=0.33968677911002787, df=15884.0)\n",
      "TtestResult(statistic=-2.990226178927103, pvalue=0.0027916073663610025, df=17408.0)\n",
      "TtestResult(statistic=6.442035775468931, pvalue=1.2180504021194856e-10, df=13750.043388957178)\n"
     ]
    }
   ],
   "source": [
    "# T-tests for Tuesday\n",
    "print(stats.ttest_ind(tues, wed, equal_var=True))\n",
    "print(stats.ttest_ind(tues, thur, equal_var=True))\n",
    "print(stats.ttest_ind(tues, fri, equal_var=True))\n",
    "print(stats.ttest_ind(tues, sat, equal_var=False))"
   ]
  },
  {
   "cell_type": "code",
   "execution_count": 22,
   "id": "ed5a93d5-8aac-4ec1-859a-5a6e9d887776",
   "metadata": {},
   "outputs": [],
   "source": [
    "# Reject the null hypothesis for Friday and Saturday while we fail to reject for Wednesday and Thursday\n",
    "# There is a significant difference between Tuesday and both Friday and Saturday while the other 2 days are not significant"
   ]
  },
  {
   "cell_type": "code",
   "execution_count": 23,
   "id": "4a19724f-8091-41fc-b108-cdc1604233c6",
   "metadata": {},
   "outputs": [
    {
     "name": "stdout",
     "output_type": "stream",
     "text": [
      "TtestResult(statistic=-2.509621759843957, pvalue=0.012096087010839768, df=15621.0)\n",
      "TtestResult(statistic=-4.560665575376725, pvalue=5.134474433853389e-06, df=17145.0)\n",
      "TtestResult(statistic=4.962524562858517, pvalue=7.040610408011587e-07, df=13903.98611324832)\n"
     ]
    }
   ],
   "source": [
    "# T-tests for Wednesday\n",
    "print(stats.ttest_ind(wed, thur, equal_var=True))\n",
    "print(stats.ttest_ind(wed, fri, equal_var=True))\n",
    "print(stats.ttest_ind(wed, sat, equal_var=False))"
   ]
  },
  {
   "cell_type": "code",
   "execution_count": 24,
   "id": "1c9f9be2-2c29-4f06-a472-25da7048018e",
   "metadata": {},
   "outputs": [],
   "source": [
    "# Reject the null hypothesis for all days\n",
    "# There is a significant difference between Wednesday and Thursday, Friday, and Saturday\n",
    "# However, there is a more significant difference in when accidents occur on Wednesday vs. Friday and Saturday than between Wednesday and Thursday"
   ]
  },
  {
   "cell_type": "code",
   "execution_count": 25,
   "id": "f294b7e8-34ba-4f55-a332-bef8095ac1ec",
   "metadata": {},
   "outputs": [
    {
     "name": "stdout",
     "output_type": "stream",
     "text": [
      "TtestResult(statistic=-1.9684513757480029, pvalue=0.0490320080999631, df=17364.0)\n",
      "TtestResult(statistic=7.1733982936045875, pvalue=7.683041537187214e-13, df=14004.686382795351)\n"
     ]
    }
   ],
   "source": [
    "# T-tests for Thursday\n",
    "print(stats.ttest_ind(thur, fri, equal_var=True))\n",
    "print(stats.ttest_ind(thur, sat, equal_var=False))"
   ]
  },
  {
   "cell_type": "code",
   "execution_count": 26,
   "id": "a26a7e51-139b-44a1-88b8-72ba3013da92",
   "metadata": {},
   "outputs": [],
   "source": [
    "# Reject the null hypothesis for both Friday and Saturday\n",
    "# There is a significant difference between when accidents occur on Thursday compared to Friday and Saturday"
   ]
  },
  {
   "cell_type": "code",
   "execution_count": 27,
   "id": "cb0d7a0d-2c76-4b9b-8393-3136c3dfba6a",
   "metadata": {},
   "outputs": [
    {
     "name": "stdout",
     "output_type": "stream",
     "text": [
      "TtestResult(statistic=9.095757013797511, pvalue=1.0646838866459606e-19, df=13930.128746235501)\n"
     ]
    }
   ],
   "source": [
    "# T-tests for Friday\n",
    "print(stats.ttest_ind(fri, sat, equal_var=False))"
   ]
  },
  {
   "cell_type": "code",
   "execution_count": 28,
   "id": "4b840d01-0ea7-4e15-851f-2283553f0716",
   "metadata": {},
   "outputs": [],
   "source": [
    "# Reject the null hypothesis\n",
    "# There is a significant difference between when accidents occur on Friday and Saturday"
   ]
  },
  {
   "cell_type": "markdown",
   "id": "0c3eea8c-2f28-481d-934d-7f96dd90cd8a",
   "metadata": {},
   "source": [
    "### p-value Heatmap for Hours of Day per Day of Week\n",
    "---\n",
    "Given how strong the correlation is between many of the Days of the week, any values under 0.05 are being considered insignificant\n",
    "Source (formatting): https://tosinharold.medium.com/enhancing-correlation-matrix-heatmap-plots-with-p-values-in-python-41bac6a7fd77"
   ]
  },
  {
   "cell_type": "code",
   "execution_count": 29,
   "id": "9a25f496-6082-4c4b-a7e0-4616f4dcbcfc",
   "metadata": {},
   "outputs": [],
   "source": [
    "# T-tests for Sunday\n",
    "stat01 = stats.ttest_ind(sun, sun, equal_var=False)[1]\n",
    "stat11 = stats.ttest_ind(sun, mon, equal_var=False)[1]\n",
    "stat21 = stats.ttest_ind(sun, tues, equal_var=False)[1]\n",
    "stat31 = stats.ttest_ind(sun, wed, equal_var=False)[1]\n",
    "stat41 = stats.ttest_ind(sun, thur, equal_var=False)[1]\n",
    "stat51 = stats.ttest_ind(sun, fri, equal_var=False)[1]\n",
    "stat61 = stats.ttest_ind(sun, sat, equal_var=True)[1]"
   ]
  },
  {
   "cell_type": "code",
   "execution_count": 30,
   "id": "51d70fd8-b644-4014-8212-31b22cf2dcb8",
   "metadata": {},
   "outputs": [],
   "source": [
    "# T-tests for Monday\n",
    "stat02 = stats.ttest_ind(mon, sun, equal_var=False)[1]\n",
    "stat12 = stats.ttest_ind(mon, mon, equal_var=False)[1]\n",
    "stat22 = stats.ttest_ind(mon, tues, equal_var=False)[1]\n",
    "stat32 = stats.ttest_ind(mon, wed, equal_var=False)[1]\n",
    "stat42 = stats.ttest_ind(mon, thur, equal_var=False)[1]\n",
    "stat52 = stats.ttest_ind(mon, fri, equal_var=False)[1]\n",
    "stat62 = stats.ttest_ind(mon, sat, equal_var=True)[1]"
   ]
  },
  {
   "cell_type": "code",
   "execution_count": 31,
   "id": "43d7b041-baee-4205-bade-721d182834e3",
   "metadata": {},
   "outputs": [],
   "source": [
    "# T-tests for Tuesday\n",
    "stat03 = stats.ttest_ind(tues, sun, equal_var=False)[1]\n",
    "stat13 = stats.ttest_ind(tues, mon, equal_var=False)[1]\n",
    "stat23 = stats.ttest_ind(tues, tues, equal_var=False)[1]\n",
    "stat33 = stats.ttest_ind(tues, wed, equal_var=False)[1]\n",
    "stat43 = stats.ttest_ind(tues, thur, equal_var=False)[1]\n",
    "stat53 = stats.ttest_ind(tues, fri, equal_var=False)[1]\n",
    "stat63 = stats.ttest_ind(tues, sat, equal_var=True)[1]"
   ]
  },
  {
   "cell_type": "code",
   "execution_count": 32,
   "id": "168fa3fe-6a21-444e-8381-e351dc9a8ba8",
   "metadata": {},
   "outputs": [],
   "source": [
    "# T-tests for Wednesday\n",
    "stat04 = stats.ttest_ind(wed, sun, equal_var=False)[1]\n",
    "stat14 = stats.ttest_ind(wed, mon, equal_var=False)[1]\n",
    "stat24 = stats.ttest_ind(wed, tues, equal_var=False)[1]\n",
    "stat34 = stats.ttest_ind(wed, wed, equal_var=False)[1]\n",
    "stat44 = stats.ttest_ind(wed, thur, equal_var=False)[1]\n",
    "stat54 = stats.ttest_ind(wed, fri, equal_var=False)[1]\n",
    "stat64 = stats.ttest_ind(wed, sat, equal_var=True)[1]"
   ]
  },
  {
   "cell_type": "code",
   "execution_count": 33,
   "id": "415f6fe4-b021-4656-a24d-984b3fe2c9d8",
   "metadata": {},
   "outputs": [],
   "source": [
    "# T-tests for Thursday\n",
    "stat05 = stats.ttest_ind(thur, sun, equal_var=False)[1]\n",
    "stat15 = stats.ttest_ind(thur, mon, equal_var=False)[1]\n",
    "stat25 = stats.ttest_ind(thur, tues, equal_var=False)[1]\n",
    "stat35 = stats.ttest_ind(thur, wed, equal_var=False)[1]\n",
    "stat45 = stats.ttest_ind(thur, thur, equal_var=False)[1]\n",
    "stat55 = stats.ttest_ind(thur, fri, equal_var=False)[1]\n",
    "stat65 = stats.ttest_ind(thur, sat, equal_var=True)[1]"
   ]
  },
  {
   "cell_type": "code",
   "execution_count": 34,
   "id": "70ddd3ab-d339-4ba2-9d62-e8e0b6c9e309",
   "metadata": {},
   "outputs": [],
   "source": [
    "# T-tests for Friday\n",
    "stat06 = stats.ttest_ind(fri, sun, equal_var=False)[1]\n",
    "stat16 = stats.ttest_ind(fri, mon, equal_var=False)[1]\n",
    "stat26 = stats.ttest_ind(fri, tues, equal_var=False)[1]\n",
    "stat36 = stats.ttest_ind(fri, wed, equal_var=False)[1]\n",
    "stat46 = stats.ttest_ind(fri, thur, equal_var=False)[1]\n",
    "stat56 = stats.ttest_ind(fri, fri, equal_var=False)[1]\n",
    "stat66 = stats.ttest_ind(fri, sat, equal_var=True)[1]"
   ]
  },
  {
   "cell_type": "code",
   "execution_count": 35,
   "id": "aa36d3aa-4f88-4201-9de7-620bcf7929e4",
   "metadata": {},
   "outputs": [],
   "source": [
    "# T-tests for Saturday\n",
    "stat07 = stats.ttest_ind(sat, sun, equal_var=False)[1]\n",
    "stat17 = stats.ttest_ind(sat, mon, equal_var=False)[1]\n",
    "stat27 = stats.ttest_ind(sat, tues, equal_var=False)[1]\n",
    "stat37 = stats.ttest_ind(sat, wed, equal_var=False)[1]\n",
    "stat47 = stats.ttest_ind(sat, thur, equal_var=False)[1]\n",
    "stat57 = stats.ttest_ind(sat, fri, equal_var=False)[1]\n",
    "stat67 = stats.ttest_ind(sat, sat, equal_var=True)[1]"
   ]
  },
  {
   "cell_type": "code",
   "execution_count": 36,
   "id": "dbe68373-7dee-4edc-8dd3-3de53b11d099",
   "metadata": {},
   "outputs": [
    {
     "data": {
      "text/html": [
       "<div>\n",
       "<style scoped>\n",
       "    .dataframe tbody tr th:only-of-type {\n",
       "        vertical-align: middle;\n",
       "    }\n",
       "\n",
       "    .dataframe tbody tr th {\n",
       "        vertical-align: top;\n",
       "    }\n",
       "\n",
       "    .dataframe thead th {\n",
       "        text-align: right;\n",
       "    }\n",
       "</style>\n",
       "<table border=\"1\" class=\"dataframe\">\n",
       "  <thead>\n",
       "    <tr style=\"text-align: right;\">\n",
       "      <th></th>\n",
       "      <th>Sunday</th>\n",
       "      <th>Monday</th>\n",
       "      <th>Tuesday</th>\n",
       "      <th>Wednesday</th>\n",
       "      <th>Thursday</th>\n",
       "      <th>Friday</th>\n",
       "      <th>Saturday</th>\n",
       "    </tr>\n",
       "  </thead>\n",
       "  <tbody>\n",
       "    <tr>\n",
       "      <th>0</th>\n",
       "      <td>1.000000e+00</td>\n",
       "      <td>4.588575e-19</td>\n",
       "      <td>2.020074e-14</td>\n",
       "      <td>2.088602e-10</td>\n",
       "      <td>1.189849e-16</td>\n",
       "      <td>2.591142e-23</td>\n",
       "      <td>6.321616e-02</td>\n",
       "    </tr>\n",
       "    <tr>\n",
       "      <th>1</th>\n",
       "      <td>4.588575e-19</td>\n",
       "      <td>1.000000e+00</td>\n",
       "      <td>6.973190e-02</td>\n",
       "      <td>8.115537e-04</td>\n",
       "      <td>3.980088e-01</td>\n",
       "      <td>2.758735e-01</td>\n",
       "      <td>2.875296e-15</td>\n",
       "    </tr>\n",
       "    <tr>\n",
       "      <th>2</th>\n",
       "      <td>2.020074e-14</td>\n",
       "      <td>6.973190e-02</td>\n",
       "      <td>1.000000e+00</td>\n",
       "      <td>1.088456e-01</td>\n",
       "      <td>3.397346e-01</td>\n",
       "      <td>2.681362e-03</td>\n",
       "      <td>1.218050e-10</td>\n",
       "    </tr>\n",
       "    <tr>\n",
       "      <th>3</th>\n",
       "      <td>2.088602e-10</td>\n",
       "      <td>8.115537e-04</td>\n",
       "      <td>1.088456e-01</td>\n",
       "      <td>1.000000e+00</td>\n",
       "      <td>1.207998e-02</td>\n",
       "      <td>4.849072e-06</td>\n",
       "      <td>7.040610e-07</td>\n",
       "    </tr>\n",
       "    <tr>\n",
       "      <th>4</th>\n",
       "      <td>1.189849e-16</td>\n",
       "      <td>3.980088e-01</td>\n",
       "      <td>3.397346e-01</td>\n",
       "      <td>1.207998e-02</td>\n",
       "      <td>1.000000e+00</td>\n",
       "      <td>4.878283e-02</td>\n",
       "      <td>7.683042e-13</td>\n",
       "    </tr>\n",
       "    <tr>\n",
       "      <th>5</th>\n",
       "      <td>2.591142e-23</td>\n",
       "      <td>2.758735e-01</td>\n",
       "      <td>2.681362e-03</td>\n",
       "      <td>4.849072e-06</td>\n",
       "      <td>4.878283e-02</td>\n",
       "      <td>1.000000e+00</td>\n",
       "      <td>1.064684e-19</td>\n",
       "    </tr>\n",
       "    <tr>\n",
       "      <th>6</th>\n",
       "      <td>6.187347e-02</td>\n",
       "      <td>2.517403e-15</td>\n",
       "      <td>7.489740e-11</td>\n",
       "      <td>5.882994e-07</td>\n",
       "      <td>4.773495e-13</td>\n",
       "      <td>1.509038e-20</td>\n",
       "      <td>1.000000e+00</td>\n",
       "    </tr>\n",
       "  </tbody>\n",
       "</table>\n",
       "</div>"
      ],
      "text/plain": [
       "         Sunday        Monday       Tuesday     Wednesday      Thursday  \\\n",
       "0  1.000000e+00  4.588575e-19  2.020074e-14  2.088602e-10  1.189849e-16   \n",
       "1  4.588575e-19  1.000000e+00  6.973190e-02  8.115537e-04  3.980088e-01   \n",
       "2  2.020074e-14  6.973190e-02  1.000000e+00  1.088456e-01  3.397346e-01   \n",
       "3  2.088602e-10  8.115537e-04  1.088456e-01  1.000000e+00  1.207998e-02   \n",
       "4  1.189849e-16  3.980088e-01  3.397346e-01  1.207998e-02  1.000000e+00   \n",
       "5  2.591142e-23  2.758735e-01  2.681362e-03  4.849072e-06  4.878283e-02   \n",
       "6  6.187347e-02  2.517403e-15  7.489740e-11  5.882994e-07  4.773495e-13   \n",
       "\n",
       "         Friday      Saturday  \n",
       "0  2.591142e-23  6.321616e-02  \n",
       "1  2.758735e-01  2.875296e-15  \n",
       "2  2.681362e-03  1.218050e-10  \n",
       "3  4.849072e-06  7.040610e-07  \n",
       "4  4.878283e-02  7.683042e-13  \n",
       "5  1.000000e+00  1.064684e-19  \n",
       "6  1.509038e-20  1.000000e+00  "
      ]
     },
     "execution_count": 36,
     "metadata": {},
     "output_type": "execute_result"
    }
   ],
   "source": [
    "# Create new DataFrame\n",
    "data = {\"Sunday\": [stat01, stat11, stat21, stat31, stat41, stat51, stat61],\n",
    "        \"Monday\": [stat02, stat12, stat22, stat32, stat42, stat52, stat62],\n",
    "        \"Tuesday\": [stat03, stat13, stat23, stat33, stat43, stat53, stat63],\n",
    "        \"Wednesday\": [stat04, stat14, stat24, stat34, stat44, stat54, stat64],\n",
    "        \"Thursday\": [stat05, stat15, stat25, stat35, stat45, stat55, stat65],\n",
    "        \"Friday\": [stat06, stat16, stat26, stat36, stat46, stat56, stat66],\n",
    "        \"Saturday\": [stat07, stat17, stat27, stat37, stat47, stat57, stat67],\n",
    "       }\n",
    "\n",
    "data_df = pd.DataFrame(data)\n",
    "data_df"
   ]
  },
  {
   "cell_type": "code",
   "execution_count": 61,
   "id": "f31439b5-0fed-4417-8bfe-01a0bada547d",
   "metadata": {},
   "outputs": [
    {
     "data": {
      "text/html": [
       "<div>\n",
       "<style scoped>\n",
       "    .dataframe tbody tr th:only-of-type {\n",
       "        vertical-align: middle;\n",
       "    }\n",
       "\n",
       "    .dataframe tbody tr th {\n",
       "        vertical-align: top;\n",
       "    }\n",
       "\n",
       "    .dataframe thead th {\n",
       "        text-align: right;\n",
       "    }\n",
       "</style>\n",
       "<table border=\"1\" class=\"dataframe\">\n",
       "  <thead>\n",
       "    <tr style=\"text-align: right;\">\n",
       "      <th></th>\n",
       "      <th>Sunday</th>\n",
       "      <th>Monday</th>\n",
       "      <th>Tuesday</th>\n",
       "      <th>Wednesday</th>\n",
       "      <th>Thursday</th>\n",
       "      <th>Friday</th>\n",
       "      <th>Saturday</th>\n",
       "    </tr>\n",
       "  </thead>\n",
       "  <tbody>\n",
       "    <tr>\n",
       "      <th>0</th>\n",
       "      <td>1.000000e+00</td>\n",
       "      <td>4.588575e-19</td>\n",
       "      <td>2.020074e-14</td>\n",
       "      <td>2.088602e-10</td>\n",
       "      <td>1.189849e-16</td>\n",
       "      <td>2.591142e-23</td>\n",
       "      <td>6.321616e-02</td>\n",
       "    </tr>\n",
       "    <tr>\n",
       "      <th>1</th>\n",
       "      <td>4.588575e-19</td>\n",
       "      <td>1.000000e+00</td>\n",
       "      <td>6.973190e-02</td>\n",
       "      <td>8.115537e-04</td>\n",
       "      <td>3.980088e-01</td>\n",
       "      <td>2.758735e-01</td>\n",
       "      <td>2.875296e-15</td>\n",
       "    </tr>\n",
       "    <tr>\n",
       "      <th>2</th>\n",
       "      <td>2.020074e-14</td>\n",
       "      <td>6.973190e-02</td>\n",
       "      <td>1.000000e+00</td>\n",
       "      <td>1.088456e-01</td>\n",
       "      <td>3.397346e-01</td>\n",
       "      <td>2.681362e-03</td>\n",
       "      <td>1.218050e-10</td>\n",
       "    </tr>\n",
       "    <tr>\n",
       "      <th>3</th>\n",
       "      <td>2.088602e-10</td>\n",
       "      <td>8.115537e-04</td>\n",
       "      <td>1.088456e-01</td>\n",
       "      <td>1.000000e+00</td>\n",
       "      <td>1.207998e-02</td>\n",
       "      <td>4.849072e-06</td>\n",
       "      <td>7.040610e-07</td>\n",
       "    </tr>\n",
       "    <tr>\n",
       "      <th>4</th>\n",
       "      <td>1.189849e-16</td>\n",
       "      <td>3.980088e-01</td>\n",
       "      <td>3.397346e-01</td>\n",
       "      <td>1.207998e-02</td>\n",
       "      <td>1.000000e+00</td>\n",
       "      <td>4.878283e-02</td>\n",
       "      <td>7.683042e-13</td>\n",
       "    </tr>\n",
       "    <tr>\n",
       "      <th>5</th>\n",
       "      <td>2.591142e-23</td>\n",
       "      <td>2.758735e-01</td>\n",
       "      <td>2.681362e-03</td>\n",
       "      <td>4.849072e-06</td>\n",
       "      <td>4.878283e-02</td>\n",
       "      <td>1.000000e+00</td>\n",
       "      <td>1.064684e-19</td>\n",
       "    </tr>\n",
       "    <tr>\n",
       "      <th>6</th>\n",
       "      <td>6.187347e-02</td>\n",
       "      <td>2.517403e-15</td>\n",
       "      <td>7.489740e-11</td>\n",
       "      <td>5.882994e-07</td>\n",
       "      <td>4.773495e-13</td>\n",
       "      <td>1.509038e-20</td>\n",
       "      <td>1.000000e+00</td>\n",
       "    </tr>\n",
       "  </tbody>\n",
       "</table>\n",
       "</div>"
      ],
      "text/plain": [
       "         Sunday        Monday       Tuesday     Wednesday      Thursday  \\\n",
       "0  1.000000e+00  4.588575e-19  2.020074e-14  2.088602e-10  1.189849e-16   \n",
       "1  4.588575e-19  1.000000e+00  6.973190e-02  8.115537e-04  3.980088e-01   \n",
       "2  2.020074e-14  6.973190e-02  1.000000e+00  1.088456e-01  3.397346e-01   \n",
       "3  2.088602e-10  8.115537e-04  1.088456e-01  1.000000e+00  1.207998e-02   \n",
       "4  1.189849e-16  3.980088e-01  3.397346e-01  1.207998e-02  1.000000e+00   \n",
       "5  2.591142e-23  2.758735e-01  2.681362e-03  4.849072e-06  4.878283e-02   \n",
       "6  6.187347e-02  2.517403e-15  7.489740e-11  5.882994e-07  4.773495e-13   \n",
       "\n",
       "         Friday      Saturday  \n",
       "0  2.591142e-23  6.321616e-02  \n",
       "1  2.758735e-01  2.875296e-15  \n",
       "2  2.681362e-03  1.218050e-10  \n",
       "3  4.849072e-06  7.040610e-07  \n",
       "4  4.878283e-02  7.683042e-13  \n",
       "5  1.000000e+00  1.064684e-19  \n",
       "6  1.509038e-20  1.000000e+00  "
      ]
     },
     "metadata": {},
     "output_type": "display_data"
    },
    {
     "data": {
      "text/plain": [
       "<function matplotlib.pyplot.show(close=None, block=None)>"
      ]
     },
     "execution_count": 61,
     "metadata": {},
     "output_type": "execute_result"
    },
    {
     "data": {
      "image/png": "[encoded data removed]",
      "text/plain": [
       "<Figure size 1200x1000 with 2 Axes>"
      ]
     },
     "metadata": {},
     "output_type": "display_data"
    }
   ],
   "source": [
    "plt.figure(figsize=(12,10))\n",
    "\n",
    "# mask the correlation matrix to diagonal (from https://tosinharold.medium.com/enhancing-correlation-matrix-heatmap-plots-with-p-values-in-python-41bac6a7fd77)\n",
    "mask = np.zeros_like(data_df, dtype=bool)\n",
    "mask[np.triu_indices_from(mask)] = True\n",
    "np.fill_diagonal(mask, False)\n",
    "\n",
    "# Creating a heatmap\n",
    "sns.heatmap(data_df, \n",
    "            cmap=\"coolwarm\", \n",
    "            yticklabels=[\"Sunday\", \"Monday\", \"Tuesday\", \"Wednesday\", \"Thursday\", \"Friday\", \"Saturday\"],\n",
    "           mask=mask,\n",
    "           linewidth=0.5,\n",
    "            cbar_kws={\"ticks\":[0.0, 0.05, 0.1, 0.2, 0.4, 0.6, 0.8, 1],\n",
    "                     \"orientation\": \"horizontal\"},\n",
    "           vmin=0,\n",
    "           vmax=1)\n",
    "\n",
    "plt.xticks(fontfamily=\"monospace\")\n",
    "plt.yticks(fontfamily=\"monospace\")\n",
    "plt.title(\"Heatmap of p-values of Accidents between Days\", fontweight=\"bold\", fontsize=16, fontfamily=\"monospace\") \n",
    "\n",
    "\n",
    "display(data_df)\n",
    "plt.show"
   ]
  },
  {
   "cell_type": "code",
   "execution_count": 38,
   "id": "43dc6222-d0c0-4467-92ce-76c44b0dbbae",
   "metadata": {},
   "outputs": [],
   "source": [
    "# \n",
    "corrs = df.corr(numeric_only=True)\n"
   ]
  }
 ],
 "metadata": {
  "kernelspec": {
   "display_name": "Python 3 (ipykernel)",
   "language": "python",
   "name": "python3"
  },
  "language_info": {
   "codemirror_mode": {
    "name": "ipython",
    "version": 3
   },
   "file_extension": ".py",
   "mimetype": "text/x-python",
   "name": "python",
   "nbconvert_exporter": "python",
   "pygments_lexer": "ipython3",
   "version": "3.10.13"
  }
 },
 "nbformat": 4,
 "nbformat_minor": 5
}
